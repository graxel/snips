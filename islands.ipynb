{
 "cells": [
  {
   "cell_type": "code",
   "execution_count": 3,
   "metadata": {},
   "outputs": [],
   "source": [
    "m = [[0,1,0,1,1],\n",
    "     [0,0,1,1,0],\n",
    "     [0,0,0,1,0]]\n",
    "\n",
    "mx = [[0,0,0,0,0,0,0],\n",
    "      [0,0,1,0,1,1,0],\n",
    "      [0,0,0,1,1,0,0],\n",
    "      [0,0,0,0,1,0,0],\n",
    "      [0,0,0,0,0,0,0]]\n",
    "\n",
    "numcols = 5\n",
    "numrows = 3"
   ]
  },
  {
   "cell_type": "code",
   "execution_count": 14,
   "metadata": {},
   "outputs": [
    {
     "name": "stdout",
     "output_type": "stream",
     "text": [
      "010110011000010"
     ]
    }
   ],
   "source": [
    "for r in range(numrows):\n",
    "    for c in range(numcols):\n",
    "        m[r][c]\n"
   ]
  },
  {
   "cell_type": "code",
   "execution_count": null,
   "metadata": {},
   "outputs": [],
   "source": [
    "islands = {}\n"
   ]
  }
 ],
 "metadata": {
  "kernelspec": {
   "display_name": "Python 3",
   "language": "python",
   "name": "python3"
  },
  "language_info": {
   "codemirror_mode": {
    "name": "ipython",
    "version": 3
   },
   "file_extension": ".py",
   "mimetype": "text/x-python",
   "name": "python",
   "nbconvert_exporter": "python",
   "pygments_lexer": "ipython3",
   "version": "3.6.6"
  }
 },
 "nbformat": 4,
 "nbformat_minor": 2
}
