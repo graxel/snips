{
 "cells": [
  {
   "cell_type": "code",
   "execution_count": 42,
   "metadata": {},
   "outputs": [
    {
     "name": "stdout",
     "output_type": "stream",
     "text": [
      "Enter a string, Johnny: Good luck in the Facebook Hacker Cup this year!\n"
     ]
    },
    {
     "data": {
      "text/plain": [
       "754"
      ]
     },
     "execution_count": 42,
     "metadata": {},
     "output_type": "execute_result"
    }
   ],
   "source": [
    "import numpy as np\n",
    "import string as string\n",
    "import re\n",
    "\n",
    "beauty_string = input('Enter a string, Johnny: ')\n",
    "lower_string = beauty_string.lower()\n",
    "\n",
    "# find anything but 'word characters' and replace with ''\n",
    "stripped_str = re.sub(r'[^\\w]','',lower_string)\n",
    "\n",
    "# use set to get rid of repeated letters\n",
    "freq_list = []\n",
    "for letter in list(set(stripped_str)):\n",
    "    freq_list.append(stripped_str.count(letter))\n",
    "\n",
    "# sort descending\n",
    "freq_list.sort(reverse=True)\n",
    "\n",
    "# multiply freqency list by [26,25,24,23,...]\n",
    "ranked_list = np.multiply(list(range(26,26-len(freq_list),-1)),freq_list)\n",
    "\n",
    "sum(ranked_list)"
   ]
  },
  {
   "cell_type": "code",
   "execution_count": 41,
   "metadata": {},
   "outputs": [
    {
     "data": {
      "text/plain": [
       "'ignorepunctuationplease'"
      ]
     },
     "execution_count": 41,
     "metadata": {},
     "output_type": "execute_result"
    }
   ],
   "source": [
    "stripped_str"
   ]
  },
  {
   "cell_type": "code",
   "execution_count": 36,
   "metadata": {},
   "outputs": [
    {
     "data": {
      "text/plain": [
       "[3, 2, 1]"
      ]
     },
     "execution_count": 36,
     "metadata": {},
     "output_type": "execute_result"
    }
   ],
   "source": [
    "freq_list\n"
   ]
  },
  {
   "cell_type": "code",
   "execution_count": 37,
   "metadata": {},
   "outputs": [
    {
     "data": {
      "text/plain": [
       "array([78, 50, 24])"
      ]
     },
     "execution_count": 37,
     "metadata": {},
     "output_type": "execute_result"
    }
   ],
   "source": [
    "ranked_list\n"
   ]
  },
  {
   "cell_type": "code",
   "execution_count": null,
   "metadata": {},
   "outputs": [],
   "source": []
  },
  {
   "cell_type": "code",
   "execution_count": null,
   "metadata": {},
   "outputs": [],
   "source": []
  }
 ],
 "metadata": {
  "kernelspec": {
   "display_name": "Python 3",
   "language": "python",
   "name": "python3"
  }
 },
 "nbformat": 4,
 "nbformat_minor": 2
}
