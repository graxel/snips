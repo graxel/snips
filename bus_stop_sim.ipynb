{
 "cells": [
  {
   "cell_type": "markdown",
   "metadata": {},
   "source": [
    "## Bus Stop Simulation"
   ]
  },
  {
   "cell_type": "markdown",
   "metadata": {},
   "source": [
    "In this notebook, we will walk through the steps of building a simulation of a bus stop, with the primary goal of seeing how bus reliability and headways affect passenger wait times. Headway refers to the time between buses. For example, if a bus comes every ten minutes, then its headway is ten minutes. For this simulation, we will set different probability distribution functions for bus headways, and by seeing how passenger wait times change as a result, we can design bus behavior that makes wait times more predictable."
   ]
  },
  {
   "cell_type": "markdown",
   "metadata": {},
   "source": [
    "We begin by importing some packages."
   ]
  },
  {
   "cell_type": "code",
   "execution_count": 1,
   "metadata": {},
   "outputs": [],
   "source": [
    "import time\n",
    "import random\n",
    "import math\n",
    "from statistics import mean, stdev\n",
    "import scipy.stats\n",
    "import pandas as pd\n",
    "import numpy as np\n",
    "# import matplotlib.mlab as mlab\n",
    "import matplotlib.pyplot as plt"
   ]
  },
  {
   "cell_type": "markdown",
   "metadata": {},
   "source": [
    "Next we define some basic functions to help simplify building the simulation."
   ]
  },
  {
   "cell_type": "code",
   "execution_count": 2,
   "metadata": {
    "scrolled": true
   },
   "outputs": [],
   "source": [
    "def person_spawner(people_waiting, passengers):\n",
    "    spawn_odds = int(1.5 * 60) # Someone shows up, on average, every 1.5 minutes\n",
    "    if (random.randint(1,spawn_odds) == 1):\n",
    "        new_person = {'pass_id': len(people_waiting) + len(passengers),\n",
    "                      'showed_up_at': t}\n",
    "        people_waiting.append(new_person)\n",
    "    return people_waiting\n",
    "\n",
    "def put_people_on_bus(people_waiting, passengers, buses, t):\n",
    "    for person in people_waiting:\n",
    "        person['bus_id'] = buses[-1]['bus_id']\n",
    "        person['picked_up_at'] = t\n",
    "        person['time_waited'] = person['picked_up_at'] - person['showed_up_at']\n",
    "        person['time_waited_mins'] = person['time_waited']/60\n",
    "        passengers.append(person)\n",
    "        buses[-1]['passengers'].append(person['pass_id'])\n",
    "    people_waiting = []\n",
    "    return people_waiting, passengers, buses\n",
    "\n",
    "def get_new_bus(buses, mean_headway, headway_stdev):\n",
    "    new_headway = headway_pdf(mean_headway, headway_stdev)\n",
    "    while new_headway <= 0:\n",
    "        new_headway = headway_pdf(mean_headway, headway_stdev)\n",
    "    new_bus = {'bus_id': len(buses),\n",
    "               'headway': new_headway,\n",
    "               'headway_mins': new_headway/60,\n",
    "               'passengers': []}\n",
    "    buses.append(new_bus)\n",
    "    return buses, new_headway\n",
    "\n",
    "def calc_bins(wait_times, bin_width, mean_headway):\n",
    "    start_at = 0\n",
    "    bins = [start_at]\n",
    "    bin_bound = start_at\n",
    "    while bin_bound < max(mean_headway,math.ceil(max(wait_times))):\n",
    "        bin_bound += bin_width\n",
    "        bins.append(bin_bound)\n",
    "    return bins\n",
    "\n",
    "def display_status(t,num_people_waiting,num_passengers,num_buses):\n",
    "    hrs = t//3600\n",
    "    mins = (t%3600)//60\n",
    "    secs = t%60\n",
    "    text = f'time: {hrs:02}:{mins:02}:{secs:02}\\t'\\\n",
    "         + f'people waiting: {num_people_waiting: 2}\\t'\\\n",
    "         + f'people riding: {num_passengers: 3}\\t'\\\n",
    "         + f'next bus number: {num_buses: 2}  '\n",
    "    print(text,end='\\r')\n",
    "    \n",
    "def calc_wait_times(passengers):\n",
    "    # Group passengers by bus_id, compute the mean wait time of each group\n",
    "    return list(pd.DataFrame.from_dict(passengers).groupby('bus_id')\\\n",
    "                  .agg(mean)['time_waited_mins'])"
   ]
  },
  {
   "cell_type": "markdown",
   "metadata": {},
   "source": [
    " "
   ]
  },
  {
   "cell_type": "markdown",
   "metadata": {},
   "source": [
    "This is the main simulation script. You can see the headway probability distribution function is defined on lines 4 and 5. The parameters this function uses are defined on lines 1 and 2. On line 11, we specify the number of \"seconds\" we want the simulation to run for. Each loop is slowed down by 0.01 seconds using `time.sleep(0.01)` so you can see the simulation in action."
   ]
  },
  {
   "cell_type": "code",
   "execution_count": 3,
   "metadata": {},
   "outputs": [
    {
     "name": "stdout",
     "output_type": "stream",
     "text": [
      "time: 00:33:19\tpeople waiting:  1\tpeople riding:  20\tnext bus number:  5  \r"
     ]
    }
   ],
   "source": [
    "mean_headway = 10 # minutes\n",
    "headway_stdev = 3 # minutes\n",
    "\n",
    "def headway_pdf(mean_headway, headway_stdev):\n",
    "    return random.gauss(mean_headway * 60, headway_stdev * 60)\n",
    "\n",
    "buses = []\n",
    "people_waiting = []\n",
    "passengers = []\n",
    "buses, next_bus_at = get_new_bus(buses, mean_headway, headway_stdev)\n",
    "for t in range(2_000): # seconds\n",
    "    time.sleep(0.01)\n",
    "    people_waiting = person_spawner(people_waiting, passengers)\n",
    "    if t > next_bus_at:\n",
    "        people_waiting, passengers, buses = put_people_on_bus(people_waiting, passengers, buses, t)\n",
    "        buses, new_headway = get_new_bus(buses, mean_headway, headway_stdev)\n",
    "        next_bus_at += new_headway\n",
    "\n",
    "    display_status(t,len(people_waiting),len(passengers),len(buses))    \n",
    "\n",
    "wait_times = calc_wait_times(passengers)"
   ]
  },
  {
   "cell_type": "markdown",
   "metadata": {},
   "source": [
    " "
   ]
  },
  {
   "cell_type": "markdown",
   "metadata": {},
   "source": [
    "The next three cells show the results from that short simulation; a few buses picked up 20 or so passengers."
   ]
  },
  {
   "cell_type": "code",
   "execution_count": 4,
   "metadata": {},
   "outputs": [
    {
     "data": {
      "text/html": [
       "<div>\n",
       "<style scoped>\n",
       "    .dataframe tbody tr th:only-of-type {\n",
       "        vertical-align: middle;\n",
       "    }\n",
       "\n",
       "    .dataframe tbody tr th {\n",
       "        vertical-align: top;\n",
       "    }\n",
       "\n",
       "    .dataframe thead th {\n",
       "        text-align: right;\n",
       "    }\n",
       "</style>\n",
       "<table border=\"1\" class=\"dataframe\">\n",
       "  <thead>\n",
       "    <tr style=\"text-align: right;\">\n",
       "      <th></th>\n",
       "      <th>pass_id</th>\n",
       "      <th>showed_up_at</th>\n",
       "    </tr>\n",
       "  </thead>\n",
       "  <tbody>\n",
       "    <tr>\n",
       "      <th>0</th>\n",
       "      <td>20</td>\n",
       "      <td>1888</td>\n",
       "    </tr>\n",
       "  </tbody>\n",
       "</table>\n",
       "</div>"
      ],
      "text/plain": [
       "   pass_id  showed_up_at\n",
       "0       20          1888"
      ]
     },
     "execution_count": 4,
     "metadata": {},
     "output_type": "execute_result"
    }
   ],
   "source": [
    "pd.DataFrame.from_dict(people_waiting)"
   ]
  },
  {
   "cell_type": "code",
   "execution_count": 5,
   "metadata": {
    "scrolled": false
   },
   "outputs": [
    {
     "data": {
      "text/html": [
       "<div>\n",
       "<style scoped>\n",
       "    .dataframe tbody tr th:only-of-type {\n",
       "        vertical-align: middle;\n",
       "    }\n",
       "\n",
       "    .dataframe tbody tr th {\n",
       "        vertical-align: top;\n",
       "    }\n",
       "\n",
       "    .dataframe thead th {\n",
       "        text-align: right;\n",
       "    }\n",
       "</style>\n",
       "<table border=\"1\" class=\"dataframe\">\n",
       "  <thead>\n",
       "    <tr style=\"text-align: right;\">\n",
       "      <th></th>\n",
       "      <th>bus_id</th>\n",
       "      <th>pass_id</th>\n",
       "      <th>picked_up_at</th>\n",
       "      <th>showed_up_at</th>\n",
       "      <th>time_waited</th>\n",
       "      <th>time_waited_mins</th>\n",
       "    </tr>\n",
       "  </thead>\n",
       "  <tbody>\n",
       "    <tr>\n",
       "      <th>0</th>\n",
       "      <td>0</td>\n",
       "      <td>0</td>\n",
       "      <td>526</td>\n",
       "      <td>10</td>\n",
       "      <td>516</td>\n",
       "      <td>8.600000</td>\n",
       "    </tr>\n",
       "    <tr>\n",
       "      <th>1</th>\n",
       "      <td>0</td>\n",
       "      <td>1</td>\n",
       "      <td>526</td>\n",
       "      <td>131</td>\n",
       "      <td>395</td>\n",
       "      <td>6.583333</td>\n",
       "    </tr>\n",
       "    <tr>\n",
       "      <th>2</th>\n",
       "      <td>0</td>\n",
       "      <td>2</td>\n",
       "      <td>526</td>\n",
       "      <td>164</td>\n",
       "      <td>362</td>\n",
       "      <td>6.033333</td>\n",
       "    </tr>\n",
       "    <tr>\n",
       "      <th>3</th>\n",
       "      <td>0</td>\n",
       "      <td>3</td>\n",
       "      <td>526</td>\n",
       "      <td>308</td>\n",
       "      <td>218</td>\n",
       "      <td>3.633333</td>\n",
       "    </tr>\n",
       "    <tr>\n",
       "      <th>4</th>\n",
       "      <td>0</td>\n",
       "      <td>4</td>\n",
       "      <td>526</td>\n",
       "      <td>354</td>\n",
       "      <td>172</td>\n",
       "      <td>2.866667</td>\n",
       "    </tr>\n",
       "    <tr>\n",
       "      <th>5</th>\n",
       "      <td>0</td>\n",
       "      <td>5</td>\n",
       "      <td>526</td>\n",
       "      <td>417</td>\n",
       "      <td>109</td>\n",
       "      <td>1.816667</td>\n",
       "    </tr>\n",
       "    <tr>\n",
       "      <th>6</th>\n",
       "      <td>0</td>\n",
       "      <td>6</td>\n",
       "      <td>526</td>\n",
       "      <td>445</td>\n",
       "      <td>81</td>\n",
       "      <td>1.350000</td>\n",
       "    </tr>\n",
       "    <tr>\n",
       "      <th>7</th>\n",
       "      <td>2</td>\n",
       "      <td>7</td>\n",
       "      <td>1397</td>\n",
       "      <td>740</td>\n",
       "      <td>657</td>\n",
       "      <td>10.950000</td>\n",
       "    </tr>\n",
       "    <tr>\n",
       "      <th>8</th>\n",
       "      <td>2</td>\n",
       "      <td>8</td>\n",
       "      <td>1397</td>\n",
       "      <td>764</td>\n",
       "      <td>633</td>\n",
       "      <td>10.550000</td>\n",
       "    </tr>\n",
       "    <tr>\n",
       "      <th>9</th>\n",
       "      <td>2</td>\n",
       "      <td>9</td>\n",
       "      <td>1397</td>\n",
       "      <td>779</td>\n",
       "      <td>618</td>\n",
       "      <td>10.300000</td>\n",
       "    </tr>\n",
       "    <tr>\n",
       "      <th>10</th>\n",
       "      <td>2</td>\n",
       "      <td>10</td>\n",
       "      <td>1397</td>\n",
       "      <td>818</td>\n",
       "      <td>579</td>\n",
       "      <td>9.650000</td>\n",
       "    </tr>\n",
       "    <tr>\n",
       "      <th>11</th>\n",
       "      <td>2</td>\n",
       "      <td>11</td>\n",
       "      <td>1397</td>\n",
       "      <td>879</td>\n",
       "      <td>518</td>\n",
       "      <td>8.633333</td>\n",
       "    </tr>\n",
       "    <tr>\n",
       "      <th>12</th>\n",
       "      <td>2</td>\n",
       "      <td>12</td>\n",
       "      <td>1397</td>\n",
       "      <td>975</td>\n",
       "      <td>422</td>\n",
       "      <td>7.033333</td>\n",
       "    </tr>\n",
       "    <tr>\n",
       "      <th>13</th>\n",
       "      <td>2</td>\n",
       "      <td>13</td>\n",
       "      <td>1397</td>\n",
       "      <td>1145</td>\n",
       "      <td>252</td>\n",
       "      <td>4.200000</td>\n",
       "    </tr>\n",
       "    <tr>\n",
       "      <th>14</th>\n",
       "      <td>2</td>\n",
       "      <td>14</td>\n",
       "      <td>1397</td>\n",
       "      <td>1169</td>\n",
       "      <td>228</td>\n",
       "      <td>3.800000</td>\n",
       "    </tr>\n",
       "    <tr>\n",
       "      <th>15</th>\n",
       "      <td>2</td>\n",
       "      <td>15</td>\n",
       "      <td>1397</td>\n",
       "      <td>1272</td>\n",
       "      <td>125</td>\n",
       "      <td>2.083333</td>\n",
       "    </tr>\n",
       "    <tr>\n",
       "      <th>16</th>\n",
       "      <td>3</td>\n",
       "      <td>16</td>\n",
       "      <td>1743</td>\n",
       "      <td>1511</td>\n",
       "      <td>232</td>\n",
       "      <td>3.866667</td>\n",
       "    </tr>\n",
       "    <tr>\n",
       "      <th>17</th>\n",
       "      <td>3</td>\n",
       "      <td>17</td>\n",
       "      <td>1743</td>\n",
       "      <td>1563</td>\n",
       "      <td>180</td>\n",
       "      <td>3.000000</td>\n",
       "    </tr>\n",
       "    <tr>\n",
       "      <th>18</th>\n",
       "      <td>3</td>\n",
       "      <td>18</td>\n",
       "      <td>1743</td>\n",
       "      <td>1677</td>\n",
       "      <td>66</td>\n",
       "      <td>1.100000</td>\n",
       "    </tr>\n",
       "    <tr>\n",
       "      <th>19</th>\n",
       "      <td>3</td>\n",
       "      <td>19</td>\n",
       "      <td>1743</td>\n",
       "      <td>1708</td>\n",
       "      <td>35</td>\n",
       "      <td>0.583333</td>\n",
       "    </tr>\n",
       "  </tbody>\n",
       "</table>\n",
       "</div>"
      ],
      "text/plain": [
       "    bus_id  pass_id  picked_up_at  showed_up_at  time_waited  time_waited_mins\n",
       "0        0        0           526            10          516          8.600000\n",
       "1        0        1           526           131          395          6.583333\n",
       "2        0        2           526           164          362          6.033333\n",
       "3        0        3           526           308          218          3.633333\n",
       "4        0        4           526           354          172          2.866667\n",
       "5        0        5           526           417          109          1.816667\n",
       "6        0        6           526           445           81          1.350000\n",
       "7        2        7          1397           740          657         10.950000\n",
       "8        2        8          1397           764          633         10.550000\n",
       "9        2        9          1397           779          618         10.300000\n",
       "10       2       10          1397           818          579          9.650000\n",
       "11       2       11          1397           879          518          8.633333\n",
       "12       2       12          1397           975          422          7.033333\n",
       "13       2       13          1397          1145          252          4.200000\n",
       "14       2       14          1397          1169          228          3.800000\n",
       "15       2       15          1397          1272          125          2.083333\n",
       "16       3       16          1743          1511          232          3.866667\n",
       "17       3       17          1743          1563          180          3.000000\n",
       "18       3       18          1743          1677           66          1.100000\n",
       "19       3       19          1743          1708           35          0.583333"
      ]
     },
     "execution_count": 5,
     "metadata": {},
     "output_type": "execute_result"
    }
   ],
   "source": [
    "pd.DataFrame.from_dict(passengers)"
   ]
  },
  {
   "cell_type": "code",
   "execution_count": 6,
   "metadata": {},
   "outputs": [
    {
     "data": {
      "text/html": [
       "<div>\n",
       "<style scoped>\n",
       "    .dataframe tbody tr th:only-of-type {\n",
       "        vertical-align: middle;\n",
       "    }\n",
       "\n",
       "    .dataframe tbody tr th {\n",
       "        vertical-align: top;\n",
       "    }\n",
       "\n",
       "    .dataframe thead th {\n",
       "        text-align: right;\n",
       "    }\n",
       "</style>\n",
       "<table border=\"1\" class=\"dataframe\">\n",
       "  <thead>\n",
       "    <tr style=\"text-align: right;\">\n",
       "      <th></th>\n",
       "      <th>bus_id</th>\n",
       "      <th>headway</th>\n",
       "      <th>headway_mins</th>\n",
       "      <th>passengers</th>\n",
       "    </tr>\n",
       "  </thead>\n",
       "  <tbody>\n",
       "    <tr>\n",
       "      <th>0</th>\n",
       "      <td>0</td>\n",
       "      <td>525.694968</td>\n",
       "      <td>8.761583</td>\n",
       "      <td>[0, 1, 2, 3, 4, 5, 6]</td>\n",
       "    </tr>\n",
       "    <tr>\n",
       "      <th>1</th>\n",
       "      <td>1</td>\n",
       "      <td>81.570451</td>\n",
       "      <td>1.359508</td>\n",
       "      <td>[]</td>\n",
       "    </tr>\n",
       "    <tr>\n",
       "      <th>2</th>\n",
       "      <td>2</td>\n",
       "      <td>789.458365</td>\n",
       "      <td>13.157639</td>\n",
       "      <td>[7, 8, 9, 10, 11, 12, 13, 14, 15]</td>\n",
       "    </tr>\n",
       "    <tr>\n",
       "      <th>3</th>\n",
       "      <td>3</td>\n",
       "      <td>346.037499</td>\n",
       "      <td>5.767292</td>\n",
       "      <td>[16, 17, 18, 19]</td>\n",
       "    </tr>\n",
       "    <tr>\n",
       "      <th>4</th>\n",
       "      <td>4</td>\n",
       "      <td>639.756281</td>\n",
       "      <td>10.662605</td>\n",
       "      <td>[]</td>\n",
       "    </tr>\n",
       "  </tbody>\n",
       "</table>\n",
       "</div>"
      ],
      "text/plain": [
       "   bus_id     headway  headway_mins                         passengers\n",
       "0       0  525.694968      8.761583              [0, 1, 2, 3, 4, 5, 6]\n",
       "1       1   81.570451      1.359508                                 []\n",
       "2       2  789.458365     13.157639  [7, 8, 9, 10, 11, 12, 13, 14, 15]\n",
       "3       3  346.037499      5.767292                   [16, 17, 18, 19]\n",
       "4       4  639.756281     10.662605                                 []"
      ]
     },
     "execution_count": 6,
     "metadata": {},
     "output_type": "execute_result"
    }
   ],
   "source": [
    "pd.DataFrame.from_dict(buses)"
   ]
  },
  {
   "cell_type": "markdown",
   "metadata": {},
   "source": [
    " ### But really"
   ]
  },
  {
   "cell_type": "markdown",
   "metadata": {},
   "source": [
    "Simulating a few buses isn't gonna cut it if we're trying to get a clear picture of the wait time distribution. Let's try a few *thousand* buses. I've gotten rid of the `time.sleep()` function, as well as `display_status()` in order to speed things up."
   ]
  },
  {
   "cell_type": "code",
   "execution_count": 7,
   "metadata": {},
   "outputs": [],
   "source": [
    "##################\n",
    "## Simulation 0 ##\n",
    "##################\n",
    "\n",
    "mean_headway = 10 # minutes\n",
    "headway_stdev = 3 # minutes\n",
    "\n",
    "def headway_pdf(mean_headway, headway_stdev):\n",
    "    return random.gauss(mean_headway * 60, headway_stdev * 60)\n",
    "\n",
    "buses = []\n",
    "people_waiting = []\n",
    "passengers = []\n",
    "buses, next_bus_at = get_new_bus(buses, mean_headway, headway_stdev)\n",
    "for t in range(2_000_000): # seconds\n",
    "    people_waiting = person_spawner(people_waiting, passengers)\n",
    "    if t > next_bus_at:\n",
    "        people_waiting, passengers, buses = put_people_on_bus(people_waiting, passengers, buses, t)\n",
    "        buses, new_headway = get_new_bus(buses, mean_headway, headway_stdev)\n",
    "        next_bus_at += new_headway\n",
    "\n",
    "wait_times_0 = calc_wait_times(passengers)"
   ]
  },
  {
   "cell_type": "markdown",
   "metadata": {},
   "source": [
    "We define functions to display the distribution of the wait times..."
   ]
  },
  {
   "cell_type": "code",
   "execution_count": 8,
   "metadata": {},
   "outputs": [],
   "source": [
    "def wait_time_histogram(bin_width, wait_time_list, mean_headway):\n",
    "    color_list = ['royalblue','orangered','gold','forestgreen']\n",
    "    plt.grid(True)\n",
    "    text = ''\n",
    "    for sim_idx, wait_times in enumerate(wait_time_list):\n",
    "        num_bins = math.ceil(max(wait_times)) - math.floor(min(wait_times))\n",
    "\n",
    "        n, bins, patches = plt.hist(wait_times, \n",
    "                            bins=calc_bins(wait_times, bin_width, mean_headway),\n",
    "                            facecolor=color_list[sim_idx], alpha=0.4)\n",
    "\n",
    "        # Make a nice smooth pdf curve to plot\n",
    "        mu, sigma = mean(wait_times), stdev(wait_times)\n",
    "        x = np.linspace(min(bins),max(bins),100)\n",
    "        y = np.multiply(scipy.stats.norm.pdf(x, mu, sigma), bin_width*len(wait_times))\n",
    "        plt.plot(x, y, color=color_list[sim_idx], linestyle='dashed', label=f'SIM {sim_idx}')\n",
    "        text += f'SIM {sim_idx}:\\tmean wait time: {mu:.2} minutes\\tstandard deviation: {sigma:.2} minutes\\n'\n",
    "    plt.legend(loc='best')\n",
    "    plt.show()\n",
    "    print(text)\n",
    "    \n",
    "def percentile_graph(wait_times_list):\n",
    "    color_list = ['royalblue','orangered','gold','forestgreen']\n",
    "    plt.grid(True)\n",
    "    for sim_idx, wait_times in enumerate(wait_times_list):\n",
    "            sorted_wait_times = []\n",
    "            percentiles = []\n",
    "            for idx, wait_time in enumerate(sorted(wait_times, reverse=True)):\n",
    "                sorted_wait_times.append(wait_time)\n",
    "                percentiles.append( (idx+1) / len(wait_times) )\n",
    "            \n",
    "            x = sorted_wait_times\n",
    "            y = percentiles\n",
    "            plt.plot(x, y, color=color_list[sim_idx], label=f'SIM {sim_idx}')\n",
    "    plt.legend(loc='best')\n",
    "    plt.show()"
   ]
  },
  {
   "cell_type": "markdown",
   "metadata": {},
   "source": [
    "Alright, let's see what these distributions look like."
   ]
  },
  {
   "cell_type": "code",
   "execution_count": 9,
   "metadata": {
    "scrolled": false
   },
   "outputs": [
    {
     "data": {
      "image/png": "[encoded data removed]",
      "text/plain": [
       "<Figure size 432x288 with 1 Axes>"
      ]
     },
     "metadata": {
      "needs_background": "light"
     },
     "output_type": "display_data"
    },
    {
     "name": "stdout",
     "output_type": "stream",
     "text": [
      "SIM 0:\tmean wait time: 5.0 minutes\tstandard deviation: 2.0 minutes\n",
      "\n"
     ]
    },
    {
     "data": {
      "image/png": "[encoded data removed]",
      "text/plain": [
       "<Figure size 432x288 with 1 Axes>"
      ]
     },
     "metadata": {
      "needs_background": "light"
     },
     "output_type": "display_data"
    }
   ],
   "source": [
    "wait_time_histogram(0.5, [wait_times_0], mean_headway)\n",
    "percentile_graph([wait_times_0])"
   ]
  },
  {
   "cell_type": "markdown",
   "metadata": {},
   "source": [
    "Interesting. The mean wait time was around 5 minutes, and the standard deviation around 2 minutes."
   ]
  },
  {
   "cell_type": "markdown",
   "metadata": {},
   "source": [
    "### Now what if we..."
   ]
  },
  {
   "cell_type": "markdown",
   "metadata": {},
   "source": [
    "In an effort to make their buses more regular and maximize bus capacity, the transit agency decides that if a bus arrives at a bus stop ahead of time, it shall wait until its 10 minute headway is up before departing and moving on to the next stop. Let see how this changes things."
   ]
  },
  {
   "cell_type": "code",
   "execution_count": 10,
   "metadata": {},
   "outputs": [],
   "source": [
    "##################\n",
    "## Simulation 1 ##\n",
    "##################\n",
    "\n",
    "mean_headway = 10 # minutes\n",
    "headway_stdev = 3 # minutes\n",
    "\n",
    "def headway_pdf(mean_headway, headway_stdev):\n",
    "    # bus never early; only departs once 10 minutes are up\n",
    "    return max(mean_headway * 60, random.gauss(mean_headway * 60, headway_stdev * 60))\n",
    "\n",
    "buses = []\n",
    "people_waiting = []\n",
    "passengers = []\n",
    "buses, next_bus_at = get_new_bus(buses, mean_headway, headway_stdev)\n",
    "for t in range(2_000_000): # seconds\n",
    "    people_waiting = person_spawner(people_waiting, passengers)\n",
    "    if t > next_bus_at:\n",
    "        people_waiting, passengers, buses = put_people_on_bus(people_waiting, passengers, buses, t)\n",
    "        buses, new_headway = get_new_bus(buses, mean_headway, headway_stdev)\n",
    "        next_bus_at += new_headway\n",
    "\n",
    "wait_times_1 = calc_wait_times(passengers)"
   ]
  },
  {
   "cell_type": "markdown",
   "metadata": {},
   "source": [
    "Let's see how the new results compare."
   ]
  },
  {
   "cell_type": "code",
   "execution_count": 11,
   "metadata": {
    "scrolled": false
   },
   "outputs": [
    {
     "data": {
      "image/png": "[encoded data removed]",
      "text/plain": [
       "<Figure size 432x288 with 1 Axes>"
      ]
     },
     "metadata": {
      "needs_background": "light"
     },
     "output_type": "display_data"
    },
    {
     "name": "stdout",
     "output_type": "stream",
     "text": [
      "SIM 0:\tmean wait time: 5.0 minutes\tstandard deviation: 2.0 minutes\n",
      "SIM 1:\tmean wait time: 5.5 minutes\tstandard deviation: 1.5 minutes\n",
      "\n"
     ]
    },
    {
     "data": {
      "image/png": "[encoded data removed]",
      "text/plain": [
       "<Figure size 432x288 with 1 Axes>"
      ]
     },
     "metadata": {
      "needs_background": "light"
     },
     "output_type": "display_data"
    }
   ],
   "source": [
    "wait_time_histogram(0.5, [wait_times_0, wait_times_1], mean_headway)\n",
    "percentile_graph([wait_times_0, wait_times_1])"
   ]
  },
  {
   "cell_type": "markdown",
   "metadata": {},
   "source": [
    "The mean wait time is slightly longer, but the standard deviation has been reduced. The difference in results after 7 minutes is negligible.\n",
    "\n",
    "NOTE: To say \"standard deviation\" of SIM 1 isn't quite accurate because it is not a normal distribution. But what is important here is that the overall variability of wait times has decreased."
   ]
  },
  {
   "cell_type": "markdown",
   "metadata": {},
   "source": [
    "### Synergy"
   ]
  },
  {
   "cell_type": "markdown",
   "metadata": {},
   "source": [
    "After the seeing the previous results, the transit agency is intrigued and pushes to strike a deal with the Department of Streets. All buses will have a traffic light beacon installed, and if one is running behind schedule, it will trigger the traffic light to turn green for the bus, in order to help it get back on schedule. To put this in terms of hard numbers, let's assume that the traffic light beacon helps buses move 15% faster."
   ]
  },
  {
   "cell_type": "code",
   "execution_count": 12,
   "metadata": {},
   "outputs": [],
   "source": [
    "##################\n",
    "## Simulation 2 ##\n",
    "##################\n",
    "\n",
    "mean_headway = 10 # minutes\n",
    "headway_stdev = 3 # minutes\n",
    "\n",
    "def headway_pdf(mean_headway, headway_stdev):\n",
    "    headway = random.gauss(mean_headway * 60, headway_stdev * 60)\n",
    "    if headway > mean_headway: # any bus behind schedule gets sped up by 15%\n",
    "        headway = mean_headway + (1 - 0.15)*(headway - mean_headway)\n",
    "    return headway\n",
    "\n",
    "buses = []\n",
    "people_waiting = []\n",
    "passengers = []\n",
    "buses, next_bus_at = get_new_bus(buses, mean_headway, headway_stdev)\n",
    "for t in range(2_000_000): # seconds\n",
    "    people_waiting = person_spawner(people_waiting, passengers)\n",
    "    if t > next_bus_at:\n",
    "        people_waiting, passengers, buses = put_people_on_bus(people_waiting, passengers, buses, t)\n",
    "        buses, new_headway = get_new_bus(buses, mean_headway, headway_stdev)\n",
    "        next_bus_at += new_headway\n",
    "\n",
    "wait_times_2 = calc_wait_times(passengers)"
   ]
  },
  {
   "cell_type": "code",
   "execution_count": 13,
   "metadata": {},
   "outputs": [
    {
     "data": {
      "image/png": "[encoded data removed]",
      "text/plain": [
       "<Figure size 432x288 with 1 Axes>"
      ]
     },
     "metadata": {
      "needs_background": "light"
     },
     "output_type": "display_data"
    },
    {
     "name": "stdout",
     "output_type": "stream",
     "text": [
      "SIM 0:\tmean wait time: 5.0 minutes\tstandard deviation: 2.0 minutes\n",
      "SIM 1:\tmean wait time: 5.5 minutes\tstandard deviation: 1.5 minutes\n",
      "SIM 2:\tmean wait time: 4.3 minutes\tstandard deviation: 1.7 minutes\n",
      "\n"
     ]
    },
    {
     "data": {
      "image/png": "[encoded data removed]",
      "text/plain": [
       "<Figure size 432x288 with 1 Axes>"
      ]
     },
     "metadata": {
      "needs_background": "light"
     },
     "output_type": "display_data"
    }
   ],
   "source": [
    "wait_time_histogram(0.5, [wait_times_0, wait_times_1, wait_times_2], mean_headway)\n",
    "percentile_graph([wait_times_0, wait_times_1, wait_times_2])"
   ]
  },
  {
   "cell_type": "markdown",
   "metadata": {},
   "source": [
    "The transit agency is blown away by their findings! They have made a significant reduction in mean wait time, while also decreasing wait time variability. In fact, they thought the beacons worked a little too well and that they were under-utilizing their bus fleet. Their zealous engineers decided to see how a combination of the strategies in simulations 1 and 2 would work out."
   ]
  },
  {
   "cell_type": "markdown",
   "metadata": {},
   "source": [
    "### Transit Nirvana"
   ]
  },
  {
   "cell_type": "code",
   "execution_count": 14,
   "metadata": {},
   "outputs": [],
   "source": [
    "##################\n",
    "## Simulation 3 ##\n",
    "##################\n",
    "\n",
    "mean_headway = 10 # minutes\n",
    "headway_stdev = 3 # minutes\n",
    "\n",
    "def headway_pdf(mean_headway, headway_stdev):\n",
    "    headway = random.gauss(mean_headway * 60, headway_stdev * 60)\n",
    "    if headway > mean_headway: \n",
    "        headway = mean_headway + (1 - 0.15)*(headway - mean_headway) # any bus behind schedule gets sped up by 15%\n",
    "    else:\n",
    "        headway = mean_headway # any bus ahead of schedule waits until it is back on schedule\n",
    "    return headway\n",
    "\n",
    "buses = []\n",
    "people_waiting = []\n",
    "passengers = []\n",
    "buses, next_bus_at = get_new_bus(buses, mean_headway, headway_stdev)\n",
    "for t in range(2_000_000): # seconds\n",
    "    people_waiting = person_spawner(people_waiting, passengers)\n",
    "    if t > next_bus_at:\n",
    "        people_waiting, passengers, buses = put_people_on_bus(people_waiting, passengers, buses, t)\n",
    "        buses, new_headway = get_new_bus(buses, mean_headway, headway_stdev)\n",
    "        next_bus_at += new_headway\n",
    "\n",
    "wait_times_3 = calc_wait_times(passengers)"
   ]
  },
  {
   "cell_type": "code",
   "execution_count": 15,
   "metadata": {},
   "outputs": [
    {
     "data": {
      "image/png": "[encoded data removed]",
      "text/plain": [
       "<Figure size 432x288 with 1 Axes>"
      ]
     },
     "metadata": {
      "needs_background": "light"
     },
     "output_type": "display_data"
    },
    {
     "name": "stdout",
     "output_type": "stream",
     "text": [
      "SIM 0:\tmean wait time: 5.0 minutes\tstandard deviation: 2.0 minutes\n",
      "SIM 1:\tmean wait time: 5.5 minutes\tstandard deviation: 1.5 minutes\n",
      "SIM 2:\tmean wait time: 4.3 minutes\tstandard deviation: 1.7 minutes\n",
      "SIM 3:\tmean wait time: 4.3 minutes\tstandard deviation: 1.7 minutes\n",
      "\n"
     ]
    },
    {
     "data": {
      "image/png": "[encoded data removed]",
      "text/plain": [
       "<Figure size 432x288 with 1 Axes>"
      ]
     },
     "metadata": {
      "needs_background": "light"
     },
     "output_type": "display_data"
    }
   ],
   "source": [
    "wait_time_histogram(0.5, [wait_times_0, wait_times_1, wait_times_2, wait_times_3], mean_headway)\n",
    "percentile_graph([wait_times_0, wait_times_1, wait_times_2, wait_times_3])"
   ]
  },
  {
   "cell_type": "markdown",
   "metadata": {},
   "source": [
    "Oh well, they say progress isn't always linear, right? Luckily the transit planners tested out their ideas in a simulation before deploying them on the road! Simulation 2 turns out to be the best approach to decreasing wait times and improving bus regularity."
   ]
  },
  {
   "cell_type": "markdown",
   "metadata": {},
   "source": [
    "#### I hope you enjoyed playing with this bus stop simulation! \n",
    "#### Head over to my github page at https://github.com/graxel to see what other projects I've been working on."
   ]
  }
 ],
 "metadata": {
  "kernelspec": {
   "display_name": "Python 3",
   "language": "python",
   "name": "python3"
  },
  "language_info": {
   "codemirror_mode": {
    "name": "ipython",
    "version": 3
   },
   "file_extension": ".py",
   "mimetype": "text/x-python",
   "name": "python",
   "nbconvert_exporter": "python",
   "pygments_lexer": "ipython3",
   "version": "3.7.1"
  }
 },
 "nbformat": 4,
 "nbformat_minor": 2
}
